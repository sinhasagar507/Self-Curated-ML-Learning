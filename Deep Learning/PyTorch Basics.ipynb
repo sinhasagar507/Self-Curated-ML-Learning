{
 "cells": [
  {
   "cell_type": "code",
   "execution_count": null,
   "metadata": {
    "colab": {
     "base_uri": "https://localhost:8080/"
    },
    "id": "0BFRaytRJbZE",
    "outputId": "0b597ccd-3be9-4ffb-aa64-5438ff3b8ef1"
   },
   "outputs": [
    {
     "name": "stdout",
     "output_type": "stream",
     "text": [
      "\u001b[K     |████████████████████████████████| 1.8 MB 33.5 MB/s \n",
      "\u001b[K     |████████████████████████████████| 181 kB 58.1 MB/s \n",
      "\u001b[K     |████████████████████████████████| 145 kB 70.3 MB/s \n",
      "\u001b[K     |████████████████████████████████| 63 kB 2.0 MB/s \n",
      "\u001b[?25h  Building wheel for pathtools (setup.py) ... \u001b[?25l\u001b[?25hdone\n"
     ]
    }
   ],
   "source": [
    "# Weights and biases\n",
    "# !pip install wandb -qqq\n",
    "# import wandb"
   ]
  },
  {
   "cell_type": "code",
   "execution_count": null,
   "metadata": {
    "id": "6vQEUB9eJbWL"
   },
   "outputs": [],
   "source": [
    "# Login into the account\n",
    "# wandb.login()"
   ]
  },
  {
   "cell_type": "markdown",
   "metadata": {
    "id": "B68XuxjoReNY"
   },
   "source": [
    "# Play with every model, parameter and the following dataset - thrice "
   ]
  },
  {
   "cell_type": "code",
   "execution_count": 1,
   "metadata": {
    "colab": {
     "base_uri": "https://localhost:8080/"
    },
    "id": "wVyWNadAJbS2",
    "outputId": "6f4faf7d-f085-466c-8174-1abee139236f"
   },
   "outputs": [
    {
     "name": "stdout",
     "output_type": "stream",
     "text": [
      "DSAforDSA is a portal for learning DSA.\n",
      "Hello, My name is Sagar and I'm 22 years old.\n",
      " June 17, 2022\n"
     ]
    }
   ],
   "source": [
    "# Python3 program introducing f-string. F-strings are cooler\n",
    "val = 'DSA'\n",
    "print(f\"{val}for{val} is a portal for learning {val}.\")\n",
    " \n",
    " \n",
    "name = 'Sagar'\n",
    "age = 22\n",
    "print(f\"Hello, My name is {name} and I'm {age} years old.\")\n",
    "\n",
    "# Importing datetime\n",
    "import datetime\n",
    "today = datetime.datetime.today()\n",
    "print(f\"{today: %B %d, %Y}\")"
   ]
  },
  {
   "cell_type": "code",
   "execution_count": null,
   "metadata": {
    "colab": {
     "base_uri": "https://localhost:8080/"
    },
    "id": "oHe0LxeJJbPy",
    "outputId": "c936ace9-4037-4601-b341-e161fc8c6e42"
   },
   "outputs": [
    {
     "name": "stdout",
     "output_type": "stream",
     "text": [
      "2022-06-13 18:01:45.834234\n"
     ]
    }
   ],
   "source": [
    "print(today)"
   ]
  },
  {
   "cell_type": "code",
   "execution_count": 3,
   "metadata": {
    "id": "uWKm9VJlmS_S"
   },
   "outputs": [],
   "source": [
    "# Importing the requisite libraries\n",
    "import numpy as np\n",
    "import pandas as pd\n",
    "from matplotlib import pyplot as plt\n",
    "\n",
    "# Import Pytorch. Study all of these four modules extensively \n",
    "import torch\n",
    "import torch.nn as nn\n",
    "import torchvision \n",
    "import torchvision.transforms as transforms"
   ]
  },
  {
   "cell_type": "code",
   "execution_count": 4,
   "metadata": {
    "colab": {
     "base_uri": "https://localhost:8080/"
    },
    "id": "h-H3g-h6mgAu",
    "outputId": "7204533b-51bd-438c-f5c0-13eaae36c8d3"
   },
   "outputs": [
    {
     "name": "stdout",
     "output_type": "stream",
     "text": [
      "tensor([[1.5013, 1.7906],\n",
      "        [0.3806, 0.6719]])\n",
      "\n",
      "tensor([[0.8853, 0.7091, 0.4316, 0.5594],\n",
      "        [0.9416, 0.1178, 0.3512, 0.4684],\n",
      "        [0.4643, 0.1076, 0.3908, 0.9738],\n",
      "        [0.2501, 0.2615, 0.8101, 0.2507]])\n",
      "torch.Size([2, 8])\n",
      "\n",
      "tensor([1., 1., 1., 1., 1.])\n",
      "[1. 1. 1. 1. 1.]\n",
      "\n",
      "[2. 2. 2. 2. 2.]\n"
     ]
    }
   ],
   "source": [
    "# Random initialization \n",
    "# High bias refers to high error on training set. High variance refers to high error on test set\n",
    "x=torch.rand(2, 2)\n",
    "y=torch.rand(2, 2)\n",
    "\n",
    "z=x*y\n",
    "z=torch.div(x, y)\n",
    "print(z)\n",
    "print()\n",
    "\n",
    "x=torch.rand(4, 4)\n",
    "print(x)\n",
    "y=x.view(-1, 8) \n",
    "print(y.size())\n",
    "print()\n",
    "\n",
    "a=torch.ones(5)\n",
    "print(a)\n",
    "b=a.numpy()\n",
    "print(b)\n",
    "print()\n",
    "\n",
    "# Adding 1 to the initial tensor will modify the derived tensor or numpy array as well.\n",
    "a.add_(1)\n",
    "print(b)"
   ]
  },
  {
   "cell_type": "code",
   "execution_count": null,
   "metadata": {
    "colab": {
     "base_uri": "https://localhost:8080/"
    },
    "id": "2xci7j2_mf9O",
    "outputId": "29d8b7e2-3a67-407e-e81f-64e44ddb44d2"
   },
   "outputs": [
    {
     "name": "stdout",
     "output_type": "stream",
     "text": [
      "tensor([2., 2., 2., 2., 2.])\n"
     ]
    }
   ],
   "source": [
    "# Check for GPU availibility \n",
    "if torch.cuda.is_available():\n",
    "  device=torch.device(\"cuda\")\n",
    "  x=torch.ones(5, device=device)\n",
    "  y=torch.ones(5, device=device)\n",
    "  z=x+y\n",
    "  z=z.to(\"cpu\")\n",
    "  print(z)"
   ]
  },
  {
   "cell_type": "markdown",
   "metadata": {
    "id": "yVspqWtJ2WHe"
   },
   "source": [
    "# Autograd Package for Gradient Computation\n"
   ]
  },
  {
   "cell_type": "code",
   "execution_count": null,
   "metadata": {
    "colab": {
     "base_uri": "https://localhost:8080/"
    },
    "id": "83SkIrXEmf6b",
    "outputId": "308a2783-87dd-4807-8d43-ec5f32e63c20"
   },
   "outputs": [
    {
     "name": "stdout",
     "output_type": "stream",
     "text": [
      "tensor([ 0.9401,  0.0035, -1.0927], requires_grad=True)\n",
      "tensor([2.9401, 2.0035, 0.9073], grad_fn=<AddBackward0>)\n"
     ]
    }
   ],
   "source": [
    "# When writing requires_grad=True, we explicitly specify that gradient computations can occur WRT this variable. Enable gradient computations WRT this variable\n",
    "x=torch.randn(3, requires_grad=True)\n",
    "print(x)\n",
    "y=x+2\n",
    "print(y)"
   ]
  },
  {
   "cell_type": "code",
   "execution_count": null,
   "metadata": {
    "colab": {
     "base_uri": "https://localhost:8080/"
    },
    "id": "c7r3OZxpmf3w",
    "outputId": "e5f3ecdb-f808-49a1-cdcf-67073d3f9efb"
   },
   "outputs": [
    {
     "name": "stdout",
     "output_type": "stream",
     "text": [
      "tensor([1.1760e+00, 8.0141e+00, 3.6293e-03])\n"
     ]
    }
   ],
   "source": [
    "z=y*y*2\n",
    "v=torch.tensor([0.1, 1.0, 0.001], dtype=torch.float32) \n",
    "z.backward(v) # Computes dz/dx at this particular value\n",
    "print(x.grad)"
   ]
  },
  {
   "cell_type": "code",
   "execution_count": null,
   "metadata": {
    "colab": {
     "base_uri": "https://localhost:8080/"
    },
    "id": "oAm0KyOvmf1I",
    "outputId": "4e047a80-6a6e-4612-cbc3-e6f667126a49"
   },
   "outputs": [
    {
     "name": "stdout",
     "output_type": "stream",
     "text": [
      "tensor([3., 3., 3., 3.])\n",
      "tensor([6., 6., 6., 6.])\n",
      "tensor([9., 9., 9., 9.])\n"
     ]
    }
   ],
   "source": [
    "#Following are the three ways to initialize a vector without enabling gradient computation\n",
    "# x.requires_grad_(false)\n",
    "# x.detach()\n",
    "# with torch.no_grad():\n",
    "#   loop\n",
    "x1=torch.randn(3, requires_grad=False) \n",
    "\n",
    "\n",
    "#Understand how this is working\n",
    "weights=torch.ones(4, requires_grad=True)\n",
    "for epoch in range(3):\n",
    "  model_output=(weights*3).sum()\n",
    "\n",
    "  # Compute Gradient and print the output \n",
    "  model_output.backward()\n",
    "  print(weights.grad)"
   ]
  },
  {
   "cell_type": "code",
   "execution_count": null,
   "metadata": {
    "colab": {
     "base_uri": "https://localhost:8080/"
    },
    "id": "1d1QOaIDmfub",
    "outputId": "5b9a24ef-c17c-471e-ec04-2ec7e29438fe"
   },
   "outputs": [
    {
     "name": "stdout",
     "output_type": "stream",
     "text": [
      "tensor(1., grad_fn=<PowBackward0>)\n",
      "tensor(-2.)\n"
     ]
    }
   ],
   "source": [
    "# Basic forward and backward pass\n",
    "x = torch.tensor(1.0, requires_grad=True)\n",
    "y = torch.tensor(2.0)\n",
    "\n",
    "# Loss is calculated WRT weights\n",
    "w = torch.tensor(1.0)\n",
    "\n",
    "# Forward pass and loss computation\n",
    "y_hat = w*x\n",
    "loss = (y_hat-y)**2\n",
    "print(loss)\n",
    "\n",
    "# Backward loss\n",
    "loss.backward()\n",
    "print(x.grad)"
   ]
  },
  {
   "cell_type": "markdown",
   "metadata": {
    "id": "DO3I-FRntwtn"
   },
   "source": [
    "## Linear Regression with Gradient Computation in PyTorch - Part A"
   ]
  },
  {
   "cell_type": "code",
   "execution_count": null,
   "metadata": {
    "colab": {
     "base_uri": "https://localhost:8080/"
    },
    "id": "xQg5DFmv6p92",
    "outputId": "dc419027-3c31-4ee8-8c1e-f5c7c2d36438"
   },
   "outputs": [
    {
     "name": "stdout",
     "output_type": "stream",
     "text": [
      "0.0\n",
      "Weights=1.2 Loss=30.0\n",
      "Weights=1.9918080282211301 Loss=0.0031457357108592987\n",
      "Weights=1.9999160599708554 Loss=3.297340072094812e-07\n",
      "Weights=1.9999991369247434 Loss=3.531397396727698e-11\n",
      "Weights=1.9999999952316283 Loss=0.0\n"
     ]
    }
   ],
   "source": [
    "# Update weights\n",
    "# Prediction, gradient computation, loss computation and parameter updates\n",
    "# Gradients and torch\n",
    "\n",
    "# Training samples\n",
    "X = np.array([1, 2, 3, 4], dtype=np.float32)\n",
    "Y = np.array([2, 4, 6, 8], dtype=np.float32)\n",
    "\n",
    "w = 0.0\n",
    "\n",
    "# Model prediction\n",
    "def forward(x):\n",
    "  return w*x\n",
    "\n",
    "# Loss = MSE\n",
    "def loss(y, y_predicted):\n",
    "  return((y_predicted - y)**2).mean()\n",
    "\n",
    "# gradient\n",
    "# MSE = 1/N * (w*x - y) ** 2\n",
    "# dJ/dW = 1/N * 2 * (w* x -y)\n",
    "\n",
    "def gradient(x, y, y_predicted):\n",
    "  return np.dot(2*x, y_predicted - y).mean()\n",
    "\n",
    "print(forward(5.0))\n",
    "\n",
    "#Training\n",
    "learning_rate = 0.01\n",
    "n_iters = 25\n",
    "\n",
    "for epoch in range(n_iters):\n",
    "\n",
    "  # Prediction = forward pass\n",
    "  y_preds = forward(X)\n",
    "\n",
    "  # Calculate loss\n",
    "  l = loss(Y, y_preds)\n",
    "\n",
    "  # Gradient computation\n",
    "  dw = gradient(X, Y, y_preds)\n",
    "\n",
    "  # Update weights\n",
    "  w -= learning_rate * dw\n",
    "\n",
    "  if epoch % 5 == 0:\n",
    "    print(\"Weights={}\".format(w), \"Loss={}\".format(l))\n"
   ]
  },
  {
   "cell_type": "markdown",
   "metadata": {
    "id": "BbDrD0fIz7M7"
   },
   "source": [
    "## Linear Regression with Gradient Computation in PyTorch - Part B"
   ]
  },
  {
   "cell_type": "code",
   "execution_count": null,
   "metadata": {
    "colab": {
     "base_uri": "https://localhost:8080/"
    },
    "id": "e0cvZy9blDBJ",
    "outputId": "23f43d0f-ef89-48ba-f758-e559a7424322"
   },
   "outputs": [
    {
     "name": "stdout",
     "output_type": "stream",
     "text": [
      "Weights=0.09999999403953552 Loss=30.0\n",
      "Weights=4.350164413452148 Loss=5.439698219299316\n",
      "Weights=4.913819789886475 Loss=5.007733345031738\n",
      "Weights=4.988570690155029 Loss=5.000136375427246\n",
      "Weights=4.998484134674072 Loss=5.000002861022949\n",
      "Weights=4.9997992515563965 Loss=5.0\n",
      "Weights=4.999971866607666 Loss=5.0\n",
      "Weights=4.999988555908203 Loss=5.0\n",
      "Weights=4.999988555908203 Loss=5.0\n",
      "Weights=4.999988555908203 Loss=5.0\n"
     ]
    }
   ],
   "source": [
    "# Training samples. This is the general training pipeline in PyTorch. Still a manual process\n",
    "X = torch.tensor([1, 2, 3, 4], dtype=torch.float32)\n",
    "Y = torch.tensor([2, 4, 6, 8], dtype=torch.float32)\n",
    "\n",
    "w = torch.tensor(0.0, dtype=torch.float32, requires_grad=True)\n",
    "\n",
    "for epoch in range(1000):\n",
    "  y_pred = forward(x)\n",
    "\n",
    "  # Loss\n",
    "  l = loss(Y, y_pred)\n",
    "\n",
    "  # Gradients = Backward pass. Calculates dw and dJ/dw internally\n",
    "  l.backward()\n",
    "\n",
    "  # Update weights. Autogradient computation:\n",
    "  with torch.no_grad():\n",
    "    w -= learning_rate * w.grad\n",
    "\n",
    "  if epoch % 100==0:\n",
    "    print(\"Weights={}\".format(w), \"Loss={}\".format(l))\n",
    "\n",
    "  # Zero gradient\n",
    "  w.grad.zero_()"
   ]
  },
  {
   "cell_type": "markdown",
   "metadata": {
    "id": "IZUDj_To3c2Z"
   },
   "source": [
    "## Loss Computation and PyTorch training pipeline"
   ]
  },
  {
   "cell_type": "code",
   "execution_count": null,
   "metadata": {
    "colab": {
     "base_uri": "https://localhost:8080/"
    },
    "id": "wKSCpedclC9u",
    "outputId": "46661196-b790-4c40-b7e9-8f3190a54c03"
   },
   "outputs": [
    {
     "name": "stdout",
     "output_type": "stream",
     "text": [
      "4 1\n",
      "Prediction before training: f(5)\" = 0.294\n",
      "Weights=0.0 Loss=30.821449279785156\n",
      "Weights=0.0 Loss=30.821449279785156\n",
      "Weights=0.0 Loss=30.821449279785156\n",
      "Weights=0.0 Loss=30.821449279785156\n",
      "Weights=0.0 Loss=30.821449279785156\n",
      "Prediction after training: f(5)\" = 0.294\n"
     ]
    }
   ],
   "source": [
    "# Design model (input, output size and forward pass)\n",
    "# Construct loss and optmizer\n",
    "# Design model (input, output size and forward pass)\n",
    "# Training loop - compute predictions, backward pass: gradients and update weights\n",
    "\n",
    "# Training samples. This is the general training pipeline in PyTorch\n",
    "X = torch.tensor([[1], [2], [3], [4]], dtype=torch.float32)\n",
    "Y = torch.tensor([[2], [4], [6], [8]], dtype=torch.float32)\n",
    "\n",
    "X_test = torch.tensor([5], dtype=torch.float32)\n",
    "\n",
    "n_samples, n_features = X.shape\n",
    "print(n_samples, n_features)\n",
    "\n",
    "input_size = n_features\n",
    "output_size = n_features\n",
    "\n",
    "model = nn.Linear(input_size, output_size)\n",
    "\n",
    "print(f'Prediction before training: f(5)\" = {model(X_test).item():.3f}')\n",
    "\n",
    "w = torch.tensor(0.0, dtype=torch.float32, requires_grad=True)\n",
    "\n",
    "\n",
    "for epoch in range(1000):\n",
    "\n",
    "  # Zero gradient. Setting dw, db and dZ to 0\n",
    "  optimizer.zero_grad()\n",
    "  y_pred = model(X)\n",
    "\n",
    "  # Loss\n",
    "  loss = nn.MSELoss()\n",
    "  optimizer = torch.optim.SGD([w], lr = learning_rate)\n",
    "\n",
    "  # Calculating loss\n",
    "  l = loss(Y, y_pred)\n",
    "\n",
    "  # Gradients = Backward pass. Calculates dw and dJ/dw internally\n",
    "  l.backward()\n",
    "\n",
    "  # Update weights. Autogradient computation:\n",
    "  optimizer.step()\n",
    "\n",
    "  if epoch % 200 == 0:\n",
    "    print(\"Weights={}\".format(w), \"Loss={}\".format(l)\n",
    "\n",
    "print(f'Prediction after training: f(5)\" = {model(X_test).item():.3f}')"
   ]
  },
  {
   "cell_type": "markdown",
   "metadata": {
    "id": "eghJ9t0pTEVy"
   },
   "source": [
    "## OOPs method - Preferred Method"
   ]
  },
  {
   "cell_type": "code",
   "execution_count": null,
   "metadata": {
    "colab": {
     "base_uri": "https://localhost:8080/"
    },
    "id": "lJXDM3Y-_yNW",
    "outputId": "6f1f47a8-c807-44b2-aae4-913f0377a8e7"
   },
   "outputs": [
    {
     "name": "stdout",
     "output_type": "stream",
     "text": [
      "4 1\n",
      "Prediction before training: f(5)\" = 1.320\n",
      "Weights=0.019999999552965164 Loss=19.759254455566406\n",
      "Weights=0.019999999552965164 Loss=19.759254455566406\n",
      "Prediction after training: f(5)\" = 9.285\n"
     ]
    }
   ],
   "source": [
    "X = torch.tensor([[1], [2], [3], [4]], dtype=torch.float32)\n",
    "Y = torch.tensor([[2], [4], [6], [8]], dtype=torch.float32)\n",
    "\n",
    "X_test = torch.tensor([5], dtype=torch.float32)\n",
    "n_samples, n_features = X.shape\n",
    "print(n_samples, n_features)\n",
    "\n",
    "input_size = n_features\n",
    "output_size = n_features\n",
    "\n",
    "model = nn.Linear(input_size,output_size)\n",
    "\n",
    "class LinearRegression(nn.Module):\n",
    "\n",
    "  def __init__(self, input_dim, output_dim):\n",
    "\n",
    "    # Import all the parameters from the main class\n",
    "    super(LinearRegression, self).__init__()\n",
    "\n",
    "    # Define layers\n",
    "    self.lin = nn.Linear(input_dim, output_dim)\n",
    "\n",
    "  def forward(self, x):\n",
    "    return self.lin(x)\n",
    "\n",
    "model = LinearRegression(input_size, output_size)\n",
    "\n",
    "\n",
    "print(f'Prediction before training: f(5)\" = {model(X_test).item():.3f}')\n",
    "\n",
    "#Training\n",
    "learning_rate = 0.01\n",
    "\n",
    "w = torch.tensor(0.02, dtype=torch.float32, requires_grad=True)\n",
    "\n",
    "for epoch in range(100):\n",
    "  y_pred = model(X)\n",
    "\n",
    "  # Loss\n",
    "  loss = nn.MSELoss()\n",
    "  optimizer = torch.optim.SGD(model.parameters(), lr = learning_rate)\n",
    "\n",
    "  # Calculating loss\n",
    "  l = loss(Y, y_pred)\n",
    "\n",
    "  # Gradients = Backward pass. Calculates dw and dJ/dw internally. Autograd. Computes x.grad += dLoss/dx\n",
    "  l.backward()\n",
    "\n",
    "  # Update weights smoothened by softmax. Computes x += -lr * x.grad\n",
    "  optimizer.step()\n",
    "\n",
    "  if epoch % 200 == 0:\n",
    "    print(\"Weights={}\".format(w), \"Loss={}\".format(l))\n",
    "\n",
    "  # Zero gradient\n",
    "  optimizer.zero_grad()\n",
    "\n",
    "  if epoch % 200 == 0:\n",
    "    print(\"Weights={}\".format(w), \"Loss={}\".format(l))\n",
    "\n",
    "\n",
    "print(f'Prediction after training: f(5)\" = {model(X_test).item():.3f}')"
   ]
  },
  {
   "cell_type": "code",
   "execution_count": null,
   "metadata": {
    "colab": {
     "base_uri": "https://localhost:8080/",
     "height": 265
    },
    "id": "q2ACxk6N_yJ7",
    "outputId": "ef17486a-67bb-48e5-b807-a99c542e20e3"
   },
   "outputs": [
    {
     "data": {
      "image/png": "[encoded data removed]",
      "text/plain": [
       "<Figure size 432x288 with 1 Axes>"
      ]
     },
     "metadata": {},
     "output_type": "display_data"
    }
   ],
   "source": [
    "# Design model. (input, output size, forward pass)\n",
    "# Construct loss and optimizer\n",
    "# Training loops\n",
    "  # forward pass: compute prediction and loss\n",
    "  # backward pass: gradients\n",
    "  # update weights\n",
    "from sklearn import datasets\n",
    "import matplotlib.pyplot as plt\n",
    "\n",
    "# Prepare data\n",
    "# Adjust the linearity of the model with the help of noise parameter\n",
    "X_numpy, Y_numpy = datasets.make_regression(n_samples = 100, n_features = 1, noise = 5, random_state = 0)\n",
    "plt.scatter(X_numpy, Y_numpy)\n",
    "plt.show()"
   ]
  },
  {
   "cell_type": "code",
   "execution_count": null,
   "metadata": {
    "colab": {
     "base_uri": "https://localhost:8080/"
    },
    "id": "0DE6ACCZ_yHG",
    "outputId": "7a66e57b-d913-43bc-c931-be046139f438"
   },
   "outputs": [
    {
     "name": "stdout",
     "output_type": "stream",
     "text": [
      "Epoch [100/1000], Loss: 29.0760\n",
      "Epoch [200/1000], Loss: 28.5431\n",
      "Epoch [300/1000], Loss: 28.5429\n",
      "Epoch [400/1000], Loss: 28.5429\n",
      "Epoch [500/1000], Loss: 28.5429\n",
      "Epoch [600/1000], Loss: 28.5429\n",
      "Epoch [700/1000], Loss: 28.5429\n",
      "Epoch [800/1000], Loss: 28.5429\n",
      "Epoch [900/1000], Loss: 28.5429\n",
      "Epoch [1000/1000], Loss: 28.5429\n"
     ]
    }
   ],
   "source": [
    "# Convert both the feature and label matrix to torch tensors. Preparing the data\n",
    "X = torch.from_numpy(X_numpy.astype(np.float32))\n",
    "Y = torch.from_numpy(Y_numpy.astype(np.float32))\n",
    "Y = Y.view(Y.shape[0], 1)\n",
    "\n",
    "n_samples, n_features = X.shape\n",
    "\n",
    "# Defining the model\n",
    "input_size = n_features\n",
    "output_size = 1\n",
    "model = nn.Linear(input_size, output_size)\n",
    "\n",
    "# Loss and optimizer\n",
    "learning_rate = 0.02\n",
    "num_epochs = 1000\n",
    "criterion = nn.MSELoss()\n",
    "optimizer = torch.optim.SGD(model.parameters(), lr = learning_rate)\n",
    "                            \n",
    "# Train the model\n",
    "for epoch in range(num_epochs):\n",
    "\n",
    "  # Convert numpy arrays to torch tensors\n",
    "  preds = model(X)\n",
    "  loss = criterion(preds, Y)\n",
    "\n",
    "  # Backward and optimize \n",
    "  optimizer.zero_grad()\n",
    "  loss.backward()\n",
    "  optimizer.step()\n",
    "\n",
    "  if (epoch+1) % 100 == 0:\n",
    "    print ('Epoch [{}/{}], Loss: {:.4f}'.format(epoch+1, num_epochs, loss.item()))\n",
    "    # Think about the type of loss next time onwards"
   ]
  },
  {
   "cell_type": "code",
   "execution_count": null,
   "metadata": {
    "colab": {
     "base_uri": "https://localhost:8080/",
     "height": 265
    },
    "id": "ZxBl8Vl2_yEZ",
    "outputId": "eda7b034-eff5-4624-bd08-b901cabd7464"
   },
   "outputs": [
    {
     "data": {
      "image/png": "[encoded data removed]",
      "text/plain": [
       "<Figure size 432x288 with 1 Axes>"
      ]
     },
     "metadata": {},
     "output_type": "display_data"
    }
   ],
   "source": [
    "# Plot the graph\n",
    "predicted = model(torch.from_numpy(X_numpy.astype(np.float32))).detach().numpy()\n",
    "plt.plot(X, Y, 'ro', label='Original data')\n",
    "plt.plot(X, predicted, label='Fitted line')\n",
    "plt.legend()\n",
    "plt.show()"
   ]
  },
  {
   "cell_type": "markdown",
   "metadata": {
    "id": "MbFJtrTHTtBb"
   },
   "source": [
    "# Custom Dataset - Tabular Form - without inheriting from PyTorch Dataset class"
   ]
  },
  {
   "cell_type": "code",
   "execution_count": null,
   "metadata": {
    "id": "-P2v13wPTyuu"
   },
   "outputs": [],
   "source": [
    "class CustomDataset:\n",
    "  def __init__(self, data, targets):\n",
    "    self.data = data\n",
    "    self.targets = targets\n",
    "\n",
    "  def __len__(self):\n",
    "    return len(self.data)\n",
    "\n",
    "  def __getitem__(self, idx):\n",
    "    current_sample = self.data[idx, :]\n",
    "    current_target = self.targets[idx]\n",
    "    return {\n",
    "        \"sample\": torch.tensor(current_sample), \n",
    "        \"target\": torch.tensor(current_target)\n",
    "    }"
   ]
  },
  {
   "cell_type": "code",
   "execution_count": null,
   "metadata": {
    "id": "ewZCXioJTy5G"
   },
   "outputs": [],
   "source": [
    "# Load sklearn tool datasets\n",
    "from sklearn.datasets import make_classification \n",
    "data, targets = make_classification(n_samples=1000)\n",
    "\n",
    "# Pass the custom dataset and initialize it using the class defined above \n",
    "custom_data = CustomDataset(data, targets)"
   ]
  },
  {
   "cell_type": "code",
   "execution_count": null,
   "metadata": {
    "colab": {
     "base_uri": "https://localhost:8080/"
    },
    "id": "DYuxtej0Ty1o",
    "outputId": "af09ab09-d474-44e2-b66d-34ad09e3186a"
   },
   "outputs": [
    {
     "data": {
      "text/plain": [
       "1000"
      ]
     },
     "execution_count": 28,
     "metadata": {},
     "output_type": "execute_result"
    }
   ],
   "source": [
    "len(custom_data)"
   ]
  },
  {
   "cell_type": "code",
   "execution_count": null,
   "metadata": {
    "colab": {
     "base_uri": "https://localhost:8080/"
    },
    "id": "de_rAnmBTyzH",
    "outputId": "28c94a6c-b25b-410f-bd2d-1ad94c537b83"
   },
   "outputs": [
    {
     "data": {
      "text/plain": [
       "{'sample': tensor([-0.3969,  1.1745, -0.1510, -1.1111,  1.3040, -1.2445, -0.3399,  0.8531,\n",
       "         -1.8495,  1.2958,  0.5172, -0.0913, -0.5608, -0.2307, -1.4907,  0.2580,\n",
       "         -0.3188,  0.4440, -0.9247,  0.1080], dtype=torch.float64),\n",
       " 'target': tensor(1)}"
      ]
     },
     "execution_count": 30,
     "metadata": {},
     "output_type": "execute_result"
    }
   ],
   "source": [
    "custom_data[0]"
   ]
  },
  {
   "cell_type": "markdown",
   "metadata": {
    "id": "iwpSlEEYi5cX"
   },
   "source": [
    "  # Logistic Regression\n"
   ]
  },
  {
   "cell_type": "code",
   "execution_count": null,
   "metadata": {
    "id": "gmmqz391i5xl"
   },
   "outputs": [],
   "source": [
    "# Hyper-parameters \n",
    "input_size = 28 * 28    # 784\n",
    "num_classes = 10\n",
    "num_epochs = 5\n",
    "batch_size = 100\n",
    "learning_rate = 0.001\n",
    "\n",
    "# MNIST dataset\n",
    "train_dataset = torchvision.datasets.MNIST(root='../../data', \n",
    "                                           train=True, \n",
    "                                           transform=transforms.ToTensor(),\n",
    "                                           download=True)\n",
    "\n",
    "test_dataset = torchvision.datasets.MNIST(root='../../data', \n",
    "                                          train=False, \n",
    "                                          transform=transforms.ToTensor())\n",
    "\n",
    "\n",
    "# Data loader (input pipeline)\n",
    "train_loader = torch.utils.data.DataLoader(dataset=train_dataset, \n",
    "                                           batch_size=batch_size, \n",
    "                                           shuffle=True)\n",
    "\n",
    "test_loader = torch.utils.data.DataLoader(dataset=test_dataset, \n",
    "                                          batch_size=batch_size, \n",
    "                                          shuffle=False)\n",
    "\n",
    "# Logistic Regression Model \n",
    "model = nn.Linear(input_size, num_classes)\n",
    "\n",
    "\n",
    "# Loss and optimizer\n",
    "# nn.CrossEntropyLoss() computes softmax internally\n",
    "criterion = nn.CrossEntropyLoss()  \n",
    "optimizer = torch.optim.SGD(model.parameters(), lr=learning_rate) \n",
    "\n",
    "\n",
    "# Train the model\n",
    "total_step = len(train_loader)\n",
    "for epoch in range(num_epochs):\n",
    "    for i, (images, labels) in enumerate(train_loader):\n",
    "\n",
    "        # Reshape images to (batch_size, input_size)\n",
    "        images = images.reshape(-1, input_size)\n",
    "\n",
    "        # Forward pass\n",
    "        outputs = model(images)\n",
    "\n",
    "        loss = criterion(outputs, labels)\n",
    "        \n",
    "        # Backward and optimize\n",
    "        loss.backward()\n",
    "        optimizer.step()\n",
    "        optimizer.zero_grad()\n",
    "\n",
    "        if (i+1) % 100 == 0:\n",
    "            print ('Epoch [{}/{}], Step [{}/{}], Loss: {:.4f}' \n",
    "                   .format(epoch+1, num_epochs, i+1, total_step, loss.item()))\n",
    "            \n",
    "# Testing the model. No gradient checking happpens for test data \n",
    "with torch.no_grad():\n",
    "  correct = 0\n",
    "  total = 0\n",
    "\n",
    "  for images, labels in test_loader:\n",
    "    images = images.reshape(-1, input_size)\n",
    "    outputs = model(images)\n",
    "    print(outputs.data)\n",
    "    _, predicted = torch.max(outputs.data, 1)\n",
    "\n",
    "    print(outputs.data)\n",
    "\n",
    "    # Maybe labels are the indices themselves\n",
    "    total += labels.size(0)\n",
    "    correct += (predicted == labels).sum()  \n",
    "\n",
    "print('Accuracy of the model on the 10000 test images: {} %'.format(100 * correct / total))\n",
    "  "
   ]
  },
  {
   "cell_type": "code",
   "execution_count": null,
   "metadata": {
    "id": "piZKTYFFmtoI"
   },
   "outputs": [],
   "source": [
    "# Testing the model. No gradient checking happpens for test data \n",
    "with torch.no_grad():\n",
    "  correct = 0\n",
    "  total = 0\n",
    "\n",
    "  for images, labels in test_loader:\n",
    "    images = images.reshape(-1, input_size)\n",
    "    outputs = model(images)\n",
    "    print(outputs.data)\n",
    "    _, predicted = torch.max(outputs.data, 1)\n",
    "\n",
    "    print(outputs.data)\n",
    "\n",
    "    # Maybe labels are the indices themselves\n",
    "    total += labels.size(0)\n",
    "    correct += (predicted == labels).sum()  \n",
    "\n",
    "print('Accuracy of the model on the 10000 test images: {} %'.format(100 * correct / total))"
   ]
  },
  {
   "cell_type": "markdown",
   "metadata": {
    "id": "TO2lDZl82yo6"
   },
   "source": [
    "# Debugging a Neural Network"
   ]
  },
  {
   "cell_type": "markdown",
   "metadata": {
    "id": "tP4HXPFj25c-"
   },
   "source": [
    "Checklist\n",
    "<br>\n",
    "<input type=\"checkbox\"> Building a simpler  model-check for hyperparams and dims\n",
    "  \n",
    "\n",
    "<input type=\"checkbox\"> Training model on a single or 2-5 data points\n",
    "<p>\n",
    "This checks for training set overfitting on those 2-3 points and a validation accuracy as good as random guessing. Try for a simple epochs before progressing\n",
    "</p>\n",
    "\n",
    "<input type=\"checkbox\"> Confirming the loss function \n",
    "<p>\n",
    "The loss is appropriate for task - using categorical cross-entropy for multi-class classification problems or using focal loss to address class imbalance. The initial loss shouldn't be much bigger or smaller. Claculate a base minimum probability yourself \n",
    "</p>\n",
    "\n",
    "<input type=\"checkbox\"> Check intermediate outputs and connections  \n",
    "<p>\n",
    "The loss is appropriate for task - using categorical cross-entropy for multi-class classification problems or using focal loss to address class imbalance. The initial loss shouldn't be much bigger or smaller. Claculate a base minimum probability yourself \n",
    "</p>\n",
    "\n",
    "<input type=\"checkbox\"> Diagnose parameters \n",
    "<p>\n",
    "From SGD to learning rates, identifying the right combination - or figuring out the wrong ones\n",
    "</p>\n",
    "\n",
    "<input type=\"checkbox\">  Diagnose parameters \n",
    "<p>\n",
    "From SGD to learning rates, identifying the right combination - or figuring out the wrong ones\n",
    "</p>\n",
    "\n",
    "<input type=\"checkbox\"> Tracking your work \n",
    "<p>\n",
    "As a baseline, track your experimentation and key modelling facts \n",
    "</p>\n",
    "\n"
   ]
  },
  {
   "cell_type": "markdown",
   "metadata": {
    "id": "DIkQeE_g_nlj"
   },
   "source": [
    "Requirements:\n",
    "<p>\n",
    "<input type = \"checkbox\"> Build ANN - Simple one - perform the debugging features\n",
    "</p>\n",
    "\n",
    "<p>\n",
    "<input type = \"checkbox\"> Hyperparameter tuning - Play with 3 different values\n",
    "</p>\n",
    "\n",
    "<p>\n",
    "<input type = \"checkbox\"> Loss Function - Check for 3 different values\n",
    "</p>\n",
    "\n",
    "<p>\n",
    "<input type = \"checkbox\"> Play with different kinds of values \n",
    "</p>"
   ]
  },
  {
   "cell_type": "markdown",
   "metadata": {
    "id": "mjeIoaNiEe1T"
   },
   "source": [
    "##Recurrent Neural Nets - Vanilla RNN:"
   ]
  },
  {
   "cell_type": "code",
   "execution_count": 5,
   "metadata": {
    "colab": {
     "background_save": true
    },
    "id": "491kIlSxNzPb",
    "outputId": "0c5f2ec6-61cb-46fd-8402-b59a3efe4ce4"
   },
   "outputs": [
    {
     "name": "stdout",
     "output_type": "stream",
     "text": [
      "Downloading http://yann.lecun.com/exdb/mnist/train-images-idx3-ubyte.gz\n",
      "Downloading http://yann.lecun.com/exdb/mnist/train-images-idx3-ubyte.gz to ../../data/MNIST\\raw\\train-images-idx3-ubyte.gz\n"
     ]
    },
    {
     "data": {
      "application/vnd.jupyter.widget-view+json": {
       "model_id": "d143d09727ff4577a2c91990b28896be",
       "version_major": 2,
       "version_minor": 0
      },
      "text/plain": [
       "  0%|          | 0/9912422 [00:00<?, ?it/s]"
      ]
     },
     "metadata": {},
     "output_type": "display_data"
    },
    {
     "name": "stdout",
     "output_type": "stream",
     "text": [
      "Extracting ../../data/MNIST\\raw\\train-images-idx3-ubyte.gz to ../../data/MNIST\\raw\n",
      "\n",
      "Downloading http://yann.lecun.com/exdb/mnist/train-labels-idx1-ubyte.gz\n",
      "Downloading http://yann.lecun.com/exdb/mnist/train-labels-idx1-ubyte.gz to ../../data/MNIST\\raw\\train-labels-idx1-ubyte.gz\n"
     ]
    },
    {
     "data": {
      "application/vnd.jupyter.widget-view+json": {
       "model_id": "baea9855210e4dea9456ccae43ecc18c",
       "version_major": 2,
       "version_minor": 0
      },
      "text/plain": [
       "  0%|          | 0/28881 [00:00<?, ?it/s]"
      ]
     },
     "metadata": {},
     "output_type": "display_data"
    },
    {
     "name": "stdout",
     "output_type": "stream",
     "text": [
      "Extracting ../../data/MNIST\\raw\\train-labels-idx1-ubyte.gz to ../../data/MNIST\\raw\n",
      "\n",
      "Downloading http://yann.lecun.com/exdb/mnist/t10k-images-idx3-ubyte.gz\n",
      "Downloading http://yann.lecun.com/exdb/mnist/t10k-images-idx3-ubyte.gz to ../../data/MNIST\\raw\\t10k-images-idx3-ubyte.gz\n"
     ]
    },
    {
     "data": {
      "application/vnd.jupyter.widget-view+json": {
       "model_id": "7d50f613b27c447baca73f5e4887a8c9",
       "version_major": 2,
       "version_minor": 0
      },
      "text/plain": [
       "  0%|          | 0/1648877 [00:00<?, ?it/s]"
      ]
     },
     "metadata": {},
     "output_type": "display_data"
    },
    {
     "name": "stdout",
     "output_type": "stream",
     "text": [
      "Extracting ../../data/MNIST\\raw\\t10k-images-idx3-ubyte.gz to ../../data/MNIST\\raw\n",
      "\n",
      "Downloading http://yann.lecun.com/exdb/mnist/t10k-labels-idx1-ubyte.gz\n",
      "Downloading http://yann.lecun.com/exdb/mnist/t10k-labels-idx1-ubyte.gz to ../../data/MNIST\\raw\\t10k-labels-idx1-ubyte.gz\n"
     ]
    },
    {
     "data": {
      "application/vnd.jupyter.widget-view+json": {
       "model_id": "900e32758a374641a01a7e597c940581",
       "version_major": 2,
       "version_minor": 0
      },
      "text/plain": [
       "  0%|          | 0/4542 [00:00<?, ?it/s]"
      ]
     },
     "metadata": {},
     "output_type": "display_data"
    },
    {
     "name": "stdout",
     "output_type": "stream",
     "text": [
      "Extracting ../../data/MNIST\\raw\\t10k-labels-idx1-ubyte.gz to ../../data/MNIST\\raw\n",
      "\n",
      "Accuracy of the model on the 10000 test images: 97.16999816894531 %\n"
     ]
    }
   ],
   "source": [
    "# Defining hyperparameters for the Recurrent Network. Switch to GPU runtime for faster processing \n",
    "sequence_length = 28\n",
    "input_dim = 28\n",
    "hidden_dim = 128\n",
    "layers_dim = 2\n",
    "output_dim = 10\n",
    "batch_size = 100\n",
    "num_epochs = 20\n",
    "learning_rate = 0.01\n",
    "\n",
    "# Training on MNIST dataset\n",
    "train_dataset = torchvision.datasets.MNIST(root = '../../data/',\n",
    "                                           train=True, \n",
    "                                           transform=transforms.ToTensor(),\n",
    "                                           download=True)\n",
    "\n",
    "\n",
    "test_dataset = torchvision.datasets.MNIST(root='../../data/',\n",
    "                                          train=False, \n",
    "                                          transform=transforms.ToTensor())\n",
    "\n",
    "\n",
    "# Data Loader\n",
    "train_loader = torch.utils.data.DataLoader(dataset = train_dataset, \n",
    "                                           batch_size = batch_size, \n",
    "                                           shuffle = True)\n",
    "\n",
    "test_loader = torch.utils.data.DataLoader(dataset = test_dataset, \n",
    "                                          batch_size = batch_size, \n",
    "                                          shuffle = False)\n",
    "\n",
    "\n",
    "# When the Network class is instantiated (Ex: net = Network()), \n",
    "# all the statements within __init__ are executed (the constructor). \n",
    "# Later, when you run your network on some batch of data, you write output = net(x), which invokes the __call__ method. \n",
    "# Your Network class simply inherits the __call__ method of the nn.Module class. \n",
    "# It is here where the forward method is called\n",
    "# Learn about different optimizers and experiment with them \n",
    "\n",
    "\n",
    "# Creating an RNN model PyTorch \n",
    "class RNNModel(nn.Module):\n",
    "  def __init__(self, input_dim, hidden_dim, layers_dim, output_dim):\n",
    "    super(RNNModel, self).__init__()\n",
    "\n",
    "    # Initialize Input Size \n",
    "    self.input_dim = input_dim\n",
    "\n",
    "    # Initialize Number of Hidden Layers\n",
    "    self.hidden_dim = hidden_dim\n",
    "\n",
    "    # Initialize the no. of RNN layers\n",
    "    self.layers_dim = layers_dim\n",
    "\n",
    "    # Initialize output dimension\n",
    "    self.output_dim = output_dim\n",
    "\n",
    "    # RNN\n",
    "    self.rnn = nn.RNN(self.input_dim, self.hidden_dim, self.layers_dim, batch_first=True, nonlinearity='relu')\n",
    "\n",
    "    # Readout Layer\n",
    "    self.fc = nn.Linear(self.hidden_dim, self.output_dim) \n",
    "\n",
    "  def forward(self, x):\n",
    "\n",
    "    # Initializing the first hidden state with zeroes\n",
    "    # (layer_dim, batch_size, hidden_dim)\n",
    "    # No need of explicitly initializing the initial hidden state to zeroes. Its implicitly understood.\n",
    "    self.h0 = torch.zeros(self.layers_dim, x.size(0), self.hidden_dim) \n",
    "\n",
    "    # We need to detach the hidden state to prevent exploding/vanishing gradients \n",
    "    # This is part of truncated backpropagation through time(BPTT)\n",
    "    out, hn = self.rnn(x, self.h0.detach())\n",
    "\n",
    "    # Index hidden state of last timestep \n",
    "    # Index hidden state of last time-step\n",
    "    # out.size() --> 100, 28, 10 (batch_size, input_dim, out_dim)\n",
    "    # out[:, -1, :] --> 100, 10 --> just want last time step hidden states!\n",
    "    out = self.fc(out[:, -1, :])\n",
    "    # new out size() ---> 100, 10\n",
    "    return out \n",
    "\n",
    "# Instantiate model class and assign it to object\n",
    "model = RNNModel(input_dim, hidden_dim, layers_dim, output_dim)\n",
    "\n",
    "# Instatiate classification loss\n",
    "criterion = nn.CrossEntropyLoss()\n",
    "\n",
    "# Instantiate Optimizer Class. Refer documentation\n",
    "optimizer = torch.optim.SGD(model.parameters(), lr=learning_rate)\n",
    "\n",
    "\n",
    "\n",
    "\n",
    "# Train the model \n",
    "iter = 0\n",
    "for epoch in range(num_epochs):\n",
    "  for i, (images, labels) in enumerate(train_loader):\n",
    "\n",
    "    # Load images as tensors with gradient accumulation abilities. The '.requires_grad()_' is redundant.\n",
    "    images = images.reshape(-1, sequence_length, input_dim).requires_grad_()\n",
    "\n",
    "    # Clear gradients WRT parameters\n",
    "    optimizer.zero_grad()\n",
    "\n",
    "    # Forward pass to get outputs/logits \n",
    "    # outputs.size() --> 100, 10\n",
    "    outputs = model(images)\n",
    "\n",
    "    # Calculate Loss: softmax --> cross entropy loss\n",
    "    loss = criterion(outputs, labels)\n",
    "\n",
    "    # Getting gradients WRT parameters\n",
    "    loss.backward()\n",
    "\n",
    "    # Updating parameters \n",
    "    optimizer.step()\n",
    "\n",
    "    iter += 1\n",
    "\n",
    "    # Writing the below command is optional \n",
    "    # model.eval()\n",
    "\n",
    "\n",
    "# Test the model. No gradient checking happpens occurs for test data \n",
    "with torch.no_grad():\n",
    "  \n",
    "  # Calculate accuracy \n",
    "  correct = 0\n",
    "  total = 0\n",
    "\n",
    "  # Iterate through test dataset \n",
    "  for images, labels in test_loader:\n",
    "\n",
    "    # Load images to a torch tensor with gradient accumulation abilities \n",
    "    # Sequence length refers to the no. of previous images that will be studied. But that won't make much for images as there is no contextual\n",
    "    # information of one image WRT another \n",
    "    images = images.reshape(-1, sequence_length, input_dim)\n",
    "\n",
    "    # Forward pass to get logits/output \n",
    "    outputs = model(images)\n",
    "\n",
    "    # Get predictions from the maximum value \n",
    "    _, preds = torch.max(outputs.data, 1)\n",
    "\n",
    "    # Total number of labels in the batch \n",
    "    total += labels.size(0)\n",
    "\n",
    "    # Total correct predictions \n",
    "    correct += (preds == labels).sum()\n",
    "\n",
    "  # Calculate accuracy of model \n",
    "  accuracy = (100 * correct)/total \n",
    "\n",
    "  # Print Loss\n",
    "  print('Accuracy of the model on the 10000 test images: {} %'.format(100 * correct / total))"
   ]
  },
  {
   "cell_type": "code",
   "execution_count": null,
   "metadata": {
    "id": "L2pfAF_dEif-"
   },
   "outputs": [],
   "source": [
    "# Device configuration\n",
    "device = torch.device('cuda' if torch.cuda.is_available() else 'cpu')\n",
    "\n",
    "\n",
    "# Hyperparameters\n",
    "sequence_length = 28\n",
    "input_size = 28\n",
    "hidden_size = 128\n",
    "num_layers = 2\n",
    "num_classes = 10\n",
    "batch_size = 100\n",
    "num_epochs = 2\n",
    "learning_rate = 0.01\n",
    "\n",
    "\n",
    "# Training on MNIST dataset\n",
    "train_dataset = torchvision.datasets.MNIST(root = '../../data/',\n",
    "                                           train=True, \n",
    "                                           transform=transforms.ToTensor(),\n",
    "                                           download=True)\n",
    "\n",
    "\n",
    "test_dataset = torchvision.datasets.MNIST(root='../../data/',\n",
    "                                          train=False, \n",
    "                                          transform=transforms.ToTensor())\n",
    "\n",
    "\n",
    "# Data Loader\n",
    "train_loader = torch.utils.data.DataLoader(dataset = train_dataset, \n",
    "                                           batch_size = batch_size, \n",
    "                                           shuffle = True)\n",
    "\n",
    "test_loader = torch.utils.data.DataLoader(dataset = test_dataset, \n",
    "                                          batch_size = batch_size, \n",
    "                                          shuffle = False)\n",
    "\n",
    "# Recurrent Neural Network (many-to-one)\n",
    "class RNN(nn.Module):\n",
    "  def __init__(self, input_size, hidden_size, num_layers, num_classes):\n",
    "    super(RNN, self).__init__()\n",
    "\n",
    "    # Implementing a stacked LSTM-RNN module - (28, 100, 2)\n",
    "    self.lstm = nn.LSTM(input_size, hidden_size, num_layers, batch_first=True)\n",
    "\n",
    "    #The weight-matrix is transposed during computation\n",
    "    self.fc = nn.Linear(hidden_size, num_classes)\n",
    "\n",
    "  def forward(self, x):\n",
    "\n",
    "    # Set initial hidden and cell states - (2, 100, 128)\n",
    "    h0 = torch.zeros(num_layers, x.size(0), hidden_size).to(device)\n",
    "    c0 = torch.zeros(num_layers, x.size(0), hidden_size).to(device)\n",
    "\n",
    "    # Forward propagate LSTM\n",
    "    out, _ = self.lstm(x, (h0, c0)) # out: tensor of shape(batch_size, seq_length, hidden_size)\n",
    "\n",
    "    # Decode the hidden state of the last time step\n",
    "    out = self.fc(out[:, -1, :])\n",
    "    return out\n",
    "\n",
    "    # Decode the hidden state of the last time step\n",
    "    out = self.fc(out[:, -1, :])\n",
    "    return out\n",
    "\n",
    "model = RNN(input_size, hidden_size, num_layers, num_classes).to(device)\n",
    "\n",
    "# Loss and optimizer\n",
    "criterion = nn.CrossEntropyLoss()\n",
    "optimizer = torch.optim.Adam(model.parameters(), lr = learning_rate)\n",
    "\n",
    "# Train the model\n",
    "total_step = len(train_loader)\n",
    "for epoch in range(num_epochs):\n",
    "  for i, (images, labels) in enumerate(train_loader):\n",
    "    images = images.reshape(-1, sequence_length, input_size).to(device)\n",
    "    labels = labels.to(device)\n",
    "\n",
    "    # Forward pass\n",
    "    outputs = model(images)\n",
    "    loss = criterion(outputs, labels)\n",
    "\n",
    "    # Backward and optimize\n",
    "    optimizer.zero_grad()\n",
    "    loss.backward()\n",
    "    optimizer.step()\n",
    "        \n",
    "    if (i+1) % 100 == 0:\n",
    "      print ('Epoch [{}/{}], Step [{}/{}], Loss: {:.4f}' .format(epoch+1, num_epochs, i+1, total_step, loss.item()))\n",
    "\n",
    "\n",
    "# Test the model. No gradient checking happpens occurs for test data \n",
    "with torch.no_grad():\n",
    "  \n",
    "  # Calculate accuracy \n",
    "  correct = 0\n",
    "  total = 0\n",
    "\n",
    "  # Iterate through test dataset \n",
    "  for images, labels in test_loader:\n",
    "\n",
    "    # Load images to a torch tensor with gradient accumulation abilities \n",
    "    # Sequence length refers to the no. of previous images that will be studied. But that won't make much for images as there is no contextual\n",
    "    # information of one image WRT another \n",
    "    images = images.reshape(-1, sequence_length, input_dim)\n",
    "\n",
    "    # Forward pass to get logits/output \n",
    "    outputs = model(images)\n",
    "\n",
    "    # Get predictions from the maximum value \n",
    "    _, preds = torch.max(outputs.data, 1)\n",
    "\n",
    "    # Total number of labels in the batch \n",
    "    total += labels.size(0)\n",
    "\n",
    "    # Total correct predictions \n",
    "    correct += (preds == labels).sum()\n",
    "\n",
    "# Calculate accuracy of model \n",
    "accuracy = (100 * correct)/total \n",
    "\n",
    "# Print Loss\n",
    "print('Accuracy of the model on the 10000 test images: {} %'.format(100 * correct / total))"
   ]
  },
  {
   "cell_type": "code",
   "execution_count": null,
   "metadata": {
    "id": "uHXbKxNvEjKm"
   },
   "outputs": [],
   "source": []
  },
  {
   "cell_type": "code",
   "execution_count": null,
   "metadata": {
    "id": "gCUrpxs2EjHE"
   },
   "outputs": [],
   "source": []
  },
  {
   "cell_type": "code",
   "execution_count": null,
   "metadata": {
    "id": "I8uabf9xEjDZ"
   },
   "outputs": [],
   "source": []
  },
  {
   "cell_type": "code",
   "execution_count": null,
   "metadata": {
    "id": "6JBrmo00Ei-E"
   },
   "outputs": [],
   "source": []
  },
  {
   "cell_type": "code",
   "execution_count": null,
   "metadata": {
    "id": "7ZoLd6PbEi6v"
   },
   "outputs": [],
   "source": []
  }
 ],
 "metadata": {
  "accelerator": "GPU",
  "colab": {
   "name": "Pytorch-final.ipynb",
   "provenance": []
  },
  "kernelspec": {
   "display_name": "Python 3 (ipykernel)",
   "language": "python",
   "name": "python3"
  },
  "language_info": {
   "codemirror_mode": {
    "name": "ipython",
    "version": 3
   },
   "file_extension": ".py",
   "mimetype": "text/x-python",
   "name": "python",
   "nbconvert_exporter": "python",
   "pygments_lexer": "ipython3",
   "version": "3.9.7"
  }
 },
 "nbformat": 4,
 "nbformat_minor": 1
}
