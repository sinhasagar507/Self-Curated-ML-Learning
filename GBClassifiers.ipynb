{
 "cells": [
  {
   "cell_type": "markdown",
   "id": "0e6d6088",
   "metadata": {},
   "source": [
    "# Import Necessary Libraries "
   ]
  },
  {
   "cell_type": "code",
   "execution_count": 49,
   "id": "54424026",
   "metadata": {},
   "outputs": [],
   "source": [
    "# Import libraries\n",
    "import warnings\n",
    "warnings.filterwarnings('ignore')\n",
    "import numpy as np\n",
    "import pandas as pd\n",
    "import matplotlib.pyplot as plt\n",
    "import seaborn as sns\n",
    "import statsmodels.api as sm\n",
    "\n",
    "from sklearn.preprocessing import StandardScaler,MinMaxScaler,PolynomialFeatures,RobustScaler\n",
    "from sklearn.model_selection import train_test_split\n",
    "from sklearn.neighbors import KNeighborsClassifier\n",
    "from sklearn.svm import LinearSVC, SVC\n",
    "from sklearn.linear_model import LassoCV,RidgeCV,ElasticNetCV\n",
    "from xgboost import XGBClassifier\n",
    "from sklearn.feature_selection import RFE, VarianceThreshold\n",
    "from sklearn.model_selection import GridSearchCV, KFold, RandomizedSearchCV, StratifiedKFold, cross_val_score\n",
    "from sklearn.metrics import r2_score\n",
    "from sklearn.preprocessing import StandardScaler, OneHotEncoder\n",
    "from sklearn.datasets import make_classification\n",
    "from sklearn.ensemble import GradientBoostingClassifier\n",
    "from catboost import CatBoostClassifier\n",
    "from lightgbm import LGBMClassifier\n",
    "from sklearn.model_selection import RepeatedStratifiedKFold\n",
    "\n",
    "sns.set_context(\"paper\", font_scale = 1, rc={\"grid.linewidth\": 3})\n",
    "pd.set_option('display.max_rows', 100, 'display.max_columns', 400)\n",
    "\n",
    "from scipy.stats import skew,boxcox_normmax\n",
    "from scipy.special import boxcox1p\n",
    "from sklearn.pipeline import make_pipeline\n",
    "from sklearn.metrics import mean_squared_error, accuracy_score\n",
    "from sklearn.linear_model import LinearRegression, Lasso, Ridge, ElasticNet, LogisticRegression\n",
    "from sklearn.svm import SVR\n",
    "from sklearn.ensemble import GradientBoostingRegressor, RandomForestRegressor\n",
    "from xgboost import XGBRFRegressor, XGBRegressor\n",
    "from lightgbm import LGBMRegressor\n",
    "from mlxtend.regressor import StackingCVRegressor\n",
    "from sklearn.ensemble import RandomForestRegressor,AdaBoostRegressor,BaggingRegressor,ExtraTreesRegressor"
   ]
  },
  {
   "cell_type": "code",
   "execution_count": 40,
   "id": "bc226509",
   "metadata": {},
   "outputs": [],
   "source": [
    "# Set a seed value\n",
    "seed_value= 12321 \n",
    "\n",
    "# 1. Set `PYTHONHASHSEED` environment variable at a fixed value\n",
    "import os\n",
    "os.environ['PYTHONHASHSEED']=str(seed_value)\n",
    "\n",
    "# 2. Set `python` built-in pseudo-random generator at a fixed value\n",
    "import random\n",
    "random.seed(seed_value)\n",
    "\n",
    "# 3. Set `numpy` pseudo-random generator at a fixed value\n",
    "import numpy as np\n",
    "np.random.seed(seed_value)\n",
    "\n",
    "# 4. Set `tensorflow` pseudo-random generator at a fixed value\n",
    "# import tensorflow as tf\n",
    "# tf.set_random_seed(seed_value)\n",
    "# 5. For layers that introduce randomness like dropout, make sure to set seed values \n",
    "# model.add(Dropout(0.25, seed=seed_value))\n",
    "# 6 Configure a new global `tensorflow` session\n",
    "# from keras import backend as K\n",
    "# session_conf = tf.ConfigProto(intra_op_parallelism_threads=1, inter_op_parallelism_threads=1)\n",
    "# sess = tf.Session(graph=tf.get_default_graph(), config=session_conf)\n",
    "# K.set_session(sess)"
   ]
  },
  {
   "cell_type": "code",
   "execution_count": 34,
   "id": "106587e6",
   "metadata": {},
   "outputs": [],
   "source": [
    "X, y = make_classification(n_samples=100000, n_features=30, n_informative=25, n_redundant=5, \\\n",
    "                           random_state=seed_value)"
   ]
  },
  {
   "cell_type": "markdown",
   "id": "c55a8350",
   "metadata": {},
   "source": [
    "# Gradient Boosting Classifier"
   ]
  },
  {
   "cell_type": "code",
   "execution_count": 41,
   "id": "a29bb47c",
   "metadata": {},
   "outputs": [
    {
     "name": "stdout",
     "output_type": "stream",
     "text": [
      "Wall time: 1min 14s\n"
     ]
    }
   ],
   "source": [
    "%%time\n",
    "model_gbc = GradientBoostingClassifier(random_state=seed_value)\n",
    "rskf_gbc = RepeatedStratifiedKFold(n_splits=6, n_repeats=5, random_state=seed_value)\n",
    "scores_gbc = cross_val_score(model, X, y, scoring='f1_micro')"
   ]
  },
  {
   "cell_type": "code",
   "execution_count": 37,
   "id": "12c4db8c",
   "metadata": {},
   "outputs": [
    {
     "name": "stdout",
     "output_type": "stream",
     "text": [
      "The average Micro-F1 score of the model is: 0.9751799999999999\n"
     ]
    }
   ],
   "source": [
    "# Print the results\n",
    "print(f\"The average Micro-F1 score of the model is: {sum(scores_gbc)/len(scores_gbc)}\")"
   ]
  },
  {
   "cell_type": "markdown",
   "id": "6148aad0",
   "metadata": {},
   "source": [
    "# XGBoost"
   ]
  },
  {
   "cell_type": "code",
   "execution_count": 42,
   "id": "747c9c4f",
   "metadata": {},
   "outputs": [
    {
     "name": "stdout",
     "output_type": "stream",
     "text": [
      "Wall time: 1min 13s\n"
     ]
    }
   ],
   "source": [
    "%%time\n",
    "model_xgb = XGBClassifier(random_state=seed_value)\n",
    "rskf_xgb = RepeatedStratifiedKFold(n_splits=6, n_repeats=5, random_state=seed_value)\n",
    "scores_xgb = cross_val_score(model_xgb, X, y, scoring='f1_micro')"
   ]
  },
  {
   "cell_type": "code",
   "execution_count": 30,
   "id": "2f7c5703",
   "metadata": {},
   "outputs": [
    {
     "name": "stdout",
     "output_type": "stream",
     "text": [
      "The average Micro-F1 score of the model is: 0.9751799999999999\n"
     ]
    }
   ],
   "source": [
    "# Print the results\n",
    "print(f\"The average Micro-F1 score of the model is: {sum(scores_xgb)/len(scores_xgb)}\")"
   ]
  },
  {
   "cell_type": "markdown",
   "id": "8e266156",
   "metadata": {},
   "source": [
    "# LightGBM"
   ]
  },
  {
   "cell_type": "code",
   "execution_count": 46,
   "id": "336fe518",
   "metadata": {},
   "outputs": [
    {
     "name": "stdout",
     "output_type": "stream",
     "text": [
      "Wall time: 3.18 s\n"
     ]
    }
   ],
   "source": [
    "%%time\n",
    "model_lgb = LGBMClassifier(random_state=seed_value)\n",
    "rskg_lgb = RepeatedStratifiedKFold(n_splits=6, n_repeats=5, random_state=seed_value)\n",
    "scores_lgb = cross_val_score(model_lgb, X, y, scoring='f1_micro')"
   ]
  },
  {
   "cell_type": "code",
   "execution_count": 47,
   "id": "c1d4d10d",
   "metadata": {},
   "outputs": [
    {
     "name": "stdout",
     "output_type": "stream",
     "text": [
      "The average Micro-F1 score of the model is: 0.9624699999999999\n"
     ]
    }
   ],
   "source": [
    "# Print the results\n",
    "print(f\"The average Micro-F1 score of the model is: {sum(scores_lgb)/len(scores_lgb)}\")"
   ]
  },
  {
   "cell_type": "markdown",
   "id": "c87bc41c",
   "metadata": {},
   "source": [
    "# CatBoost"
   ]
  },
  {
   "cell_type": "code",
   "execution_count": 53,
   "id": "3c08f384",
   "metadata": {},
   "outputs": [
    {
     "name": "stdout",
     "output_type": "stream",
     "text": [
      "Wall time: 1min 14s\n"
     ]
    }
   ],
   "source": [
    "%%time\n",
    "model_cat = CatBoostClassifier(verbose=0, random_state=seed_value)\n",
    "rskg_cat = RepeatedStratifiedKFold(n_splits=6, n_repeats=5, random_state=seed_value)\n",
    "scores_cat = cross_val_score(model_cat, X, y, scoring='f1_micro')"
   ]
  },
  {
   "cell_type": "code",
   "execution_count": 54,
   "id": "b8ee28e7",
   "metadata": {},
   "outputs": [
    {
     "name": "stdout",
     "output_type": "stream",
     "text": [
      "The average Micro-F1 score of the model is: 0.9845900000000001\n"
     ]
    }
   ],
   "source": [
    "# Print the results\n",
    "print(f\"The average Micro-F1 score of the model is: {sum(scores_cat)/len(scores_cat)}\")"
   ]
  },
  {
   "cell_type": "markdown",
   "id": "5cd57b4e",
   "metadata": {},
   "source": [
    "Hence we can observe that we have achieved the mnaximum accuracy on CatBoost"
   ]
  }
 ],
 "metadata": {
  "kernelspec": {
   "display_name": "Python 3 (ipykernel)",
   "language": "python",
   "name": "python3"
  },
  "language_info": {
   "codemirror_mode": {
    "name": "ipython",
    "version": 3
   },
   "file_extension": ".py",
   "mimetype": "text/x-python",
   "name": "python",
   "nbconvert_exporter": "python",
   "pygments_lexer": "ipython3",
   "version": "3.9.7"
  }
 },
 "nbformat": 4,
 "nbformat_minor": 5
}
