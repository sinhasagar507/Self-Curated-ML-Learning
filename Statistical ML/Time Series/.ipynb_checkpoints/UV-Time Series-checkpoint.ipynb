{
 "cells": [
  {
   "cell_type": "code",
   "execution_count": 1,
   "metadata": {
    "_cell_guid": "b1076dfc-b9ad-4769-8c92-a6c4dae69d19",
    "_uuid": "8f2839f25d086af736a60e9eeb907d3b93b6e0e5",
    "execution": {
     "iopub.execute_input": "2022-06-05T11:44:22.51858Z",
     "iopub.status.busy": "2022-06-05T11:44:22.518183Z",
     "iopub.status.idle": "2022-06-05T11:44:23.196795Z",
     "shell.execute_reply": "2022-06-05T11:44:23.195674Z",
     "shell.execute_reply.started": "2022-06-05T11:44:22.518479Z"
    }
   },
   "outputs": [],
   "source": [
    "# This Python 3 environment comes with many helpful analytics libraries installed\n",
    "# It is defined by the kaggle/python Docker image: https://github.com/kaggle/docker-python\n",
    "# For example, here's several helpful packages to load\n",
    "\n",
    "import numpy as np # linear algebra\n",
    "import pandas as pd # data processing, CSV file I/O (e.g. pd.read_csv)\n",
    "import matplotlib.pyplot as plt # Data visualization library\n",
    "import seaborn as sns # Data visualization library\n",
    "\n",
    "# Input data files are available in the read-only \"../input/\" directory\n",
    "# For example, running this (by clicking run or pressing Shift+Enter) will list all files under the input directory\n",
    "\n",
    "import os\n",
    "# for dirname, _, filenames in os.walk('/kaggle/input'):\n",
    "#     for filename in filenames:\n",
    "#         print(os.path.join(dirname, filename))\n",
    "\n",
    "# You can write up to 20GB to the current directory (/kaggle/working/) that gets preserved as output when you create a version using \"Save & Run All\" \n",
    "# You can also write temporary files to /kaggle/temp/, but they won't be saved outside of the current session"
   ]
  },
  {
   "cell_type": "markdown",
   "metadata": {},
   "source": [
    "# Questions to be asked:\n",
    "1. Ask relevant questions related to the timestamps\n",
    "2. Whose timestamp? How are those timestamps generated?\n",
    "3. At which instant were those timestamps recorded?\n",
    "4. Guesstimating time stamps to make sense of data\n",
    "5. I need to be in sync with my data pipeline. Only in this manner I can answer all the relevant questions \n",
    "6. Local or universal time. Most timestamps are stored according to the UTC\n",
    "7. Guesstimating timestamps to make sense of data\n",
    "8. Is it user behaviour or network behaviour?\n",
    "9. Date-specific API calls???\n",
    "10. Psychological Time-Discounting is a manifestation of a phenomenon known as psychological distance, which names our tendency to be more optimistic(and less realistic) when making assessments or estimates that are more distant from us. \n",
    "31. Humans know time is passing."
   ]
  },
  {
   "cell_type": "code",
   "execution_count": null,
   "metadata": {
    "execution": {
     "iopub.execute_input": "2022-06-05T11:44:23.199637Z",
     "iopub.status.busy": "2022-06-05T11:44:23.19928Z",
     "iopub.status.idle": "2022-06-05T11:44:23.234672Z",
     "shell.execute_reply": "2022-06-05T11:44:23.233575Z",
     "shell.execute_reply.started": "2022-06-05T11:44:23.199593Z"
    }
   },
   "outputs": [],
   "source": [
    "# Treat the first column as index\n",
    "series = pd.read_csv(\"../input/daily-total-female-births-in-california-1959/daily-total-female-births-CA.csv\", header=0, index_col=0, parse_dates=True, squeeze=True)\n",
    "series.head(10)"
   ]
  },
  {
   "cell_type": "code",
   "execution_count": null,
   "metadata": {
    "execution": {
     "iopub.execute_input": "2022-06-05T11:44:23.235986Z",
     "iopub.status.busy": "2022-06-05T11:44:23.235776Z",
     "iopub.status.idle": "2022-06-05T11:44:23.256696Z",
     "shell.execute_reply": "2022-06-05T11:44:23.25552Z",
     "shell.execute_reply.started": "2022-06-05T11:44:23.23596Z"
    }
   },
   "outputs": [],
   "source": [
    "# Do the usual descriptive analysis stuff\n",
    "print(series.size)\n",
    "print(series['1959-01'])\n",
    "print(series.describe())"
   ]
  },
  {
   "cell_type": "markdown",
   "metadata": {},
   "source": [
    "# Basic Feature Engineering\n",
    "Time Series data must be re-framed as a supervised learning dataset before we can start using\n",
    "machine learning algorithms. There is no concept of input and output features in time series.\n",
    "Instead, we must choose the variable to be predicted and use feature engineering to construct\n",
    "all of the inputs that will be used to make predictions for future time steps. In this tutorial,\n",
    "you will discover how to perform feature engineering on time series data with Python to model\n",
    "your time series problem with machine learning algorithms.\n",
    "After completing this tutorial, you will know:\n",
    "*  The rationale and goals of feature engineering time series data.\n",
    "*  How to develop basic date-time based input features.\n",
    "* How to develop more sophisticated lag and sliding window summary statistics features.\n",
    "Let’s dive in\n",
    "\n",
    "I may enumerate with all the problems of time-stamp and consider what might be useful for the problem, such as:\n",
    "* Minutes Elapsed\n",
    "* Hour of Day\n",
    "* Business Hours\n",
    "\n",
    "Lag features:\n",
    "* Weekend or not\n",
    "* Season of the year\n",
    "* Business quarter of the year\n",
    "* Daylight savings or not\n",
    "* Public holiday or not\n",
    "* Leap year or not\n",
    "\n",
    "Adding domain-specific features is a good start for time-series."
   ]
  },
  {
   "cell_type": "markdown",
   "metadata": {},
   "source": [
    "**Creating Rolling and Expanding Window summary statistic features**"
   ]
  },
  {
   "cell_type": "code",
   "execution_count": null,
   "metadata": {
    "execution": {
     "iopub.execute_input": "2022-06-05T11:44:23.260328Z",
     "iopub.status.busy": "2022-06-05T11:44:23.259317Z",
     "iopub.status.idle": "2022-06-05T11:44:23.279592Z",
     "shell.execute_reply": "2022-06-05T11:44:23.278588Z",
     "shell.execute_reply.started": "2022-06-05T11:44:23.26028Z"
    }
   },
   "outputs": [],
   "source": [
    "# Create Rolling Window Statistics\n",
    "temps = pd.DataFrame(series.values)\n",
    "width = 3\n",
    "shifted = temps.shift(width - 1)\n",
    "window = shifted.rolling(window=width)\n",
    "dataframe = pd.concat([window.min(), window.mean(), window.max(), temps], axis=1)\n",
    "dataframe.columns = ['min', 'mean', 'max', 't+1']\n",
    "print(dataframe.head(5))"
   ]
  },
  {
   "cell_type": "code",
   "execution_count": null,
   "metadata": {
    "execution": {
     "iopub.execute_input": "2022-06-05T11:47:19.877612Z",
     "iopub.status.busy": "2022-06-05T11:47:19.877308Z",
     "iopub.status.idle": "2022-06-05T11:47:19.889814Z",
     "shell.execute_reply": "2022-06-05T11:47:19.889048Z",
     "shell.execute_reply.started": "2022-06-05T11:47:19.877581Z"
    }
   },
   "outputs": [],
   "source": [
    "print(temps)\n",
    "print()\n",
    "print(shifted)"
   ]
  },
  {
   "cell_type": "code",
   "execution_count": null,
   "metadata": {
    "execution": {
     "iopub.execute_input": "2022-06-05T11:44:23.299464Z",
     "iopub.status.busy": "2022-06-05T11:44:23.298877Z",
     "iopub.status.idle": "2022-06-05T11:44:23.315855Z",
     "shell.execute_reply": "2022-06-05T11:44:23.314553Z",
     "shell.execute_reply.started": "2022-06-05T11:44:23.29942Z"
    }
   },
   "outputs": [],
   "source": [
    "# Create Expanding Window Statistics\n",
    "temps = pd.DataFrame(series.values)\n",
    "window = temps.expanding()\n",
    "dataframe = pd.concat([window.min(), window.mean(), window.max(), temps.shift(-1)], axis=1)\n",
    "dataframe.columns = ['min', 'mean', 'max', 't+1']\n",
    "print(dataframe.head(5))"
   ]
  },
  {
   "cell_type": "code",
   "execution_count": null,
   "metadata": {},
   "outputs": [],
   "source": []
  },
  {
   "cell_type": "markdown",
   "metadata": {},
   "source": [
    "# Time Series Visualization"
   ]
  },
  {
   "cell_type": "markdown",
   "metadata": {},
   "source": [
    "1. Line Plots\n",
    "2. Histograms and Density Plots\n",
    "3. Box and Whisker Plots\n",
    "4. Heat Maps\n",
    "5. Lag Plots or Scatter Plots\n",
    "6. Autocorrelation Plots"
   ]
  },
  {
   "cell_type": "code",
   "execution_count": null,
   "metadata": {
    "execution": {
     "iopub.execute_input": "2022-06-05T11:44:23.318016Z",
     "iopub.status.busy": "2022-06-05T11:44:23.317547Z",
     "iopub.status.idle": "2022-06-05T11:44:23.677623Z",
     "shell.execute_reply": "2022-06-05T11:44:23.676127Z",
     "shell.execute_reply.started": "2022-06-05T11:44:23.317974Z"
    }
   },
   "outputs": [],
   "source": [
    "# Reading data in a proper format\n",
    "melbourne = pd.read_csv(\"../input/melbourne-temperature/daily-minimum-temperatures-in-me.csv\", header=0, index_col=0, parse_dates=True, squeeze=True, on_bad_lines='warn')\n",
    "melbourne = melbourne.apply(lambda x:x.replace('?', ''))\n",
    "melbourne = melbourne.astype(float)\n",
    "\n",
    "# Plotting the series\n",
    "melbourne.plot(style='--') #'k--' is one of the type \n",
    "plt.show()"
   ]
  },
  {
   "cell_type": "code",
   "execution_count": null,
   "metadata": {
    "execution": {
     "iopub.execute_input": "2022-06-05T11:44:23.679562Z",
     "iopub.status.busy": "2022-06-05T11:44:23.678904Z",
     "iopub.status.idle": "2022-06-05T11:44:24.827157Z",
     "shell.execute_reply": "2022-06-05T11:44:24.826252Z",
     "shell.execute_reply.started": "2022-06-05T11:44:23.679518Z"
    }
   },
   "outputs": [],
   "source": [
    "# Create subplots as well\n",
    "groups = melbourne.groupby(pd.Grouper(freq='A'))\n",
    "years = pd.DataFrame()\n",
    "for name, group in groups:\n",
    "    years[name.year] = group.values\n",
    "    \n",
    "years.plot(subplots=True, legend=False)\n",
    "plt.show()"
   ]
  },
  {
   "cell_type": "code",
   "execution_count": null,
   "metadata": {
    "execution": {
     "iopub.execute_input": "2022-06-05T11:44:24.829336Z",
     "iopub.status.busy": "2022-06-05T11:44:24.828493Z",
     "iopub.status.idle": "2022-06-05T11:44:24.956615Z",
     "shell.execute_reply": "2022-06-05T11:44:24.955922Z",
     "shell.execute_reply.started": "2022-06-05T11:44:24.829296Z"
    }
   },
   "outputs": [],
   "source": [
    "#Histogram and density plots\n",
    "melbourne.hist()\n",
    "plt.show()"
   ]
  },
  {
   "cell_type": "code",
   "execution_count": null,
   "metadata": {
    "execution": {
     "iopub.execute_input": "2022-06-05T11:44:24.960273Z",
     "iopub.status.busy": "2022-06-05T11:44:24.959533Z",
     "iopub.status.idle": "2022-06-05T11:44:25.144244Z",
     "shell.execute_reply": "2022-06-05T11:44:25.143405Z",
     "shell.execute_reply.started": "2022-06-05T11:44:24.960233Z"
    }
   },
   "outputs": [],
   "source": [
    "# Draw a KDE to understand the data better\n",
    "melbourne.plot(kind='kde')\n",
    "plt.show()"
   ]
  },
  {
   "cell_type": "code",
   "execution_count": null,
   "metadata": {
    "execution": {
     "iopub.execute_input": "2022-06-05T11:44:25.145945Z",
     "iopub.status.busy": "2022-06-05T11:44:25.14566Z",
     "iopub.status.idle": "2022-06-05T11:44:25.357144Z",
     "shell.execute_reply": "2022-06-05T11:44:25.356209Z",
     "shell.execute_reply.started": "2022-06-05T11:44:25.145906Z"
    }
   },
   "outputs": [],
   "source": [
    "#Box and whisker plots by interval\n",
    "years.boxplot()\n",
    "plt.show()"
   ]
  },
  {
   "cell_type": "code",
   "execution_count": null,
   "metadata": {
    "execution": {
     "iopub.execute_input": "2022-06-05T11:44:25.358898Z",
     "iopub.status.busy": "2022-06-05T11:44:25.358625Z",
     "iopub.status.idle": "2022-06-05T11:44:25.364192Z",
     "shell.execute_reply": "2022-06-05T11:44:25.363424Z",
     "shell.execute_reply.started": "2022-06-05T11:44:25.358867Z"
    }
   },
   "outputs": [],
   "source": [
    "len(groups)"
   ]
  },
  {
   "cell_type": "code",
   "execution_count": null,
   "metadata": {
    "execution": {
     "iopub.execute_input": "2022-06-05T11:44:25.366143Z",
     "iopub.status.busy": "2022-06-05T11:44:25.365819Z",
     "iopub.status.idle": "2022-06-05T11:44:25.631459Z",
     "shell.execute_reply": "2022-06-05T11:44:25.630427Z",
     "shell.execute_reply.started": "2022-06-05T11:44:25.366091Z"
    }
   },
   "outputs": [],
   "source": [
    "#Creating a boxplot of monthly data. \n",
    "one_year = melbourne['1990']\n",
    "groups = one_year.groupby(pd.Grouper(freq='M'))\n",
    "\n",
    "#The entire group will be grouped by months, and every succeeding month is stacked in a next column\n",
    "months = pd.concat([pd.DataFrame(x[1].values) for x in groups], axis=1)\n",
    "months = pd.DataFrame(months)\n",
    "months.columns = range(1, 13)\n",
    "months.boxplot()\n",
    "plt.show()"
   ]
  },
  {
   "cell_type": "code",
   "execution_count": null,
   "metadata": {
    "execution": {
     "iopub.execute_input": "2022-06-05T11:44:25.634721Z",
     "iopub.status.busy": "2022-06-05T11:44:25.634477Z",
     "iopub.status.idle": "2022-06-05T11:44:25.6698Z",
     "shell.execute_reply": "2022-06-05T11:44:25.666445Z",
     "shell.execute_reply.started": "2022-06-05T11:44:25.634691Z"
    }
   },
   "outputs": [],
   "source": [
    "years"
   ]
  },
  {
   "cell_type": "code",
   "execution_count": null,
   "metadata": {
    "execution": {
     "iopub.execute_input": "2022-06-05T11:44:25.672046Z",
     "iopub.status.busy": "2022-06-05T11:44:25.671184Z",
     "iopub.status.idle": "2022-06-05T11:44:26.019626Z",
     "shell.execute_reply": "2022-06-05T11:44:26.018686Z",
     "shell.execute_reply.started": "2022-06-05T11:44:25.671996Z"
    }
   },
   "outputs": [],
   "source": [
    "# Heatmaps. pd.Grouper. If group is 'A', then data for each of the 12 months will be shown\n",
    "groups = melbourne.groupby(pd.Grouper(freq='A'))\n",
    "years = pd.DataFrame()\n",
    "for name, group in groups:\n",
    "    years[name.year]=group.values\n",
    "years = years.T\n",
    "years = pd.DataFrame(years)\n",
    "plt.matshow(years, interpolation=None, aspect='auto')\n",
    "plt.show()"
   ]
  },
  {
   "cell_type": "code",
   "execution_count": null,
   "metadata": {
    "execution": {
     "iopub.execute_input": "2022-06-05T11:44:26.021138Z",
     "iopub.status.busy": "2022-06-05T11:44:26.02092Z",
     "iopub.status.idle": "2022-06-05T11:44:26.056198Z",
     "shell.execute_reply": "2022-06-05T11:44:26.055393Z",
     "shell.execute_reply.started": "2022-06-05T11:44:26.021112Z"
    }
   },
   "outputs": [],
   "source": [
    "years"
   ]
  },
  {
   "cell_type": "code",
   "execution_count": null,
   "metadata": {
    "execution": {
     "iopub.execute_input": "2022-06-05T11:44:26.057595Z",
     "iopub.status.busy": "2022-06-05T11:44:26.05732Z",
     "iopub.status.idle": "2022-06-05T11:44:26.06127Z",
     "shell.execute_reply": "2022-06-05T11:44:26.060479Z",
     "shell.execute_reply.started": "2022-06-05T11:44:26.057567Z"
    }
   },
   "outputs": [],
   "source": [
    "# Do the same for a particular month as well"
   ]
  },
  {
   "cell_type": "code",
   "execution_count": null,
   "metadata": {
    "execution": {
     "iopub.execute_input": "2022-06-05T11:44:26.063169Z",
     "iopub.status.busy": "2022-06-05T11:44:26.062477Z",
     "iopub.status.idle": "2022-06-05T11:44:26.27136Z",
     "shell.execute_reply": "2022-06-05T11:44:26.270767Z",
     "shell.execute_reply.started": "2022-06-05T11:44:26.063137Z"
    }
   },
   "outputs": [],
   "source": [
    "# Lag Scatter plots\n",
    "from pandas.plotting import lag_plot\n",
    "lag_plot(melbourne)\n",
    "plt.show()"
   ]
  },
  {
   "cell_type": "code",
   "execution_count": null,
   "metadata": {
    "execution": {
     "iopub.execute_input": "2022-06-05T11:44:26.273284Z",
     "iopub.status.busy": "2022-06-05T11:44:26.272456Z",
     "iopub.status.idle": "2022-06-05T11:44:27.006217Z",
     "shell.execute_reply": "2022-06-05T11:44:27.00556Z",
     "shell.execute_reply.started": "2022-06-05T11:44:26.27325Z"
    }
   },
   "outputs": [],
   "source": [
    "# Create multiple scatter plots for different lags\n",
    "values = pd.DataFrame(melbourne.values)\n",
    "lags = 7\n",
    "columns = [values]\n",
    "\n",
    "# Creating columns for 't-1', 't-2', 't-3',...., 't-n'th lags \n",
    "for i in range(1, (lags+1)):\n",
    "    columns.append(values.shift(i))\n",
    "dataframe = pd.concat(columns, axis=1)\n",
    "\n",
    "columns = ['t']\n",
    "\n",
    "# Appending name to existing column names\n",
    "for i in range(1, (lags+1)):\n",
    "    columns.append('t-' + str(i))\n",
    "dataframe.columns = columns\n",
    "plt.figure(i)\n",
    "\n",
    "# Plotting the data\n",
    "for i in range(1, (lags+1)):\n",
    "    plt.scatter(x=dataframe['t'].values, y=dataframe['t-'+str(i)].values)\n",
    "    \n",
    "    # Okay, I can plot the subplots in this manner\n",
    "    ax = plt.subplot(240+i)\n",
    "    \n",
    "    # Setting the title\n",
    "    ax.set_title('t vs. t-' + str(i))"
   ]
  },
  {
   "cell_type": "code",
   "execution_count": null,
   "metadata": {
    "execution": {
     "iopub.execute_input": "2022-06-05T11:44:27.008464Z",
     "iopub.status.busy": "2022-06-05T11:44:27.007842Z",
     "iopub.status.idle": "2022-06-05T11:44:27.195097Z",
     "shell.execute_reply": "2022-06-05T11:44:27.194475Z",
     "shell.execute_reply.started": "2022-06-05T11:44:27.008417Z"
    }
   },
   "outputs": [],
   "source": [
    "# Autocorrelation plots\n",
    "from pandas.plotting import autocorrelation_plot\n",
    "autocorrelation_plot(melbourne)\n",
    "plt.show()\n",
    "\n",
    "#Observations\n",
    "#The given data has a very strong seasonal component"
   ]
  },
  {
   "cell_type": "markdown",
   "metadata": {},
   "source": [
    "# Resampling and Interpolation\n",
    "1. Upsampling - For eg., from hours to minutes. Using interpolation - Depends upon the use-case\n",
    "2. Downsampling - For eg., from minutes to hours. Using aggregation(mean, median and mode) - Depends upon the use-case"
   ]
  },
  {
   "cell_type": "markdown",
   "metadata": {},
   "source": [
    "1. Upsampling calls for interpolations, which can be linear as well as complex\n",
    "2. Situations under which we do downsampling of data:\n",
    "-> When we want to study observations from a particular time frame\n",
    "-> The original resolution of the data isn't sensible\n",
    "-> Match against data at a lower frequency. In such cases I would simply aggregate the data or downsample rather than simply aggregating points\n",
    "\n",
    "3. Situations under which I would upsample the data:\n",
    "-> Irregular time series\n",
    "-> Inputs are sampled at different frequencies\n",
    "-> Knowledge of time-series dynamics determines the interpolation"
   ]
  },
  {
   "cell_type": "markdown",
   "metadata": {},
   "source": [
    "# Smoothing data\n",
    "1. Purposes of smoothing - Smoothing data is strongly related to imputing missing data, check for mesurement spikes and errors or both \n",
    "2. Data Prepraration\n",
    "\n",
    "\n",
    "Exponential Smoothing:\n",
    "1. "
   ]
  },
  {
   "cell_type": "code",
   "execution_count": null,
   "metadata": {
    "execution": {
     "iopub.execute_input": "2022-06-05T11:44:27.196516Z",
     "iopub.status.busy": "2022-06-05T11:44:27.196278Z",
     "iopub.status.idle": "2022-06-05T11:44:27.19965Z",
     "shell.execute_reply": "2022-06-05T11:44:27.19913Z",
     "shell.execute_reply.started": "2022-06-05T11:44:27.196489Z"
    }
   },
   "outputs": [],
   "source": [
    "# Upsampling calls for interpolations, which can be linear as well as complex\n"
   ]
  },
  {
   "cell_type": "markdown",
   "metadata": {},
   "source": []
  },
  {
   "cell_type": "code",
   "execution_count": null,
   "metadata": {},
   "outputs": [],
   "source": []
  },
  {
   "cell_type": "code",
   "execution_count": null,
   "metadata": {},
   "outputs": [],
   "source": []
  },
  {
   "cell_type": "code",
   "execution_count": null,
   "metadata": {},
   "outputs": [],
   "source": []
  },
  {
   "cell_type": "code",
   "execution_count": null,
   "metadata": {},
   "outputs": [],
   "source": []
  }
 ],
 "metadata": {
  "kernelspec": {
   "display_name": "Python 3 (ipykernel)",
   "language": "python",
   "name": "python3"
  },
  "language_info": {
   "codemirror_mode": {
    "name": "ipython",
    "version": 3
   },
   "file_extension": ".py",
   "mimetype": "text/x-python",
   "name": "python",
   "nbconvert_exporter": "python",
   "pygments_lexer": "ipython3",
   "version": "3.9.7"
  }
 },
 "nbformat": 4,
 "nbformat_minor": 4
}
